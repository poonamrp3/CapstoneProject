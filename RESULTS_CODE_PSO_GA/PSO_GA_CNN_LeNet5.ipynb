{
 "cells": [
  {
   "cell_type": "code",
   "execution_count": 209,
   "metadata": {
    "id": "ZfIwiU-ziY8E"
   },
   "outputs": [],
   "source": [
    "import os\n",
    "os.environ['TF_CPP_MIN_LOG_LEVEL'] = '2'  # 0=all logs, 1=no INFO, 2=no WARN, 3=no ERROR\n",
    "import tensorflow as tf"
   ]
  },
  {
   "cell_type": "code",
   "execution_count": 210,
   "metadata": {},
   "outputs": [
    {
     "name": "stdout",
     "output_type": "stream",
     "text": [
      "Requirement already satisfied: deap in c:\\users\\pp1549\\appdata\\local\\anaconda3\\lib\\site-packages (1.4.2)\n",
      "Requirement already satisfied: numpy in c:\\users\\pp1549\\appdata\\local\\anaconda3\\lib\\site-packages (from deap) (1.26.4)\n",
      "Note: you may need to restart the kernel to use updated packages.\n"
     ]
    }
   ],
   "source": [
    "pip install deap"
   ]
  },
  {
   "cell_type": "code",
   "execution_count": 211,
   "metadata": {
    "id": "tVXg2tHTsS4r"
   },
   "outputs": [],
   "source": [
    "# example of loading the mnist dataset\n",
    "from tensorflow.keras.datasets import mnist\n",
    "from matplotlib import pyplot as plt\n",
    "from tensorflow.keras.models import Sequential\n",
    "from tensorflow.keras.layers import Conv2D, MaxPooling2D, Flatten, Dense\n",
    "from tensorflow.keras.optimizers import SGD\n",
    "from tensorflow.keras.utils import to_categorical  # For one-hot encoding\n",
    "from sklearn.model_selection import KFold\n",
    "from numpy import mean\n",
    "from numpy import std\n",
    "import numpy as np, random\n",
    "from sklearn.model_selection import train_test_split\n",
    "from deap import base, creator, tools, algorithms"
   ]
  },
  {
   "cell_type": "code",
   "execution_count": 212,
   "metadata": {
    "id": "CA5lEHtC7w9-"
   },
   "outputs": [],
   "source": [
    "# load train and test dataset\n",
    "def load_dataset():\n",
    "    # 1. Load MNIST data\n",
    "    (X_train_full, y_train_full), (X_test, y_test) = mnist.load_data()\n",
    "\n",
    "    # 2. Normalize and reshape for CNN (add channel dimension)\n",
    "    X_train_full = X_train_full.reshape((X_train_full.shape[0], 28, 28, 1)).astype('float32') / 255.0\n",
    "    X_test = X_test.reshape((X_test.shape[0], 28, 28, 1)).astype('float32') / 255.0\n",
    "\n",
    "    # 3. Split into train (60%) + validation (20%)\n",
    "    X_train, X_val, y_train, y_val = train_test_split(\n",
    "        X_train_full, y_train_full,\n",
    "        test_size=0.25,  # 25% of 60k = 15k samples\n",
    "        random_state=42\n",
    "    )\n",
    "\n",
    "    # 4. One-hot encode labels\n",
    "    y_train = to_categorical(y_train)\n",
    "    y_val = to_categorical(y_val)\n",
    "    y_test = to_categorical(y_test)\n",
    "\n",
    "    return X_train, y_train, X_val, y_val, X_test, y_test"
   ]
  },
  {
   "cell_type": "code",
   "execution_count": 213,
   "metadata": {
    "id": "Kd0_PT_M9FGF"
   },
   "outputs": [],
   "source": [
    "# scale pixels\n",
    "def prep_pixels(train, test):\n",
    "\t# convert from integers to floats\n",
    "\ttrain_norm = train.astype('float32')\n",
    "\ttest_norm = test.astype('float32')\n",
    "\t# normalize to range 0-1\n",
    "\ttrain_norm = train_norm / 255.0\n",
    "\ttest_norm = test_norm / 255.0\n",
    "\t# return normalized images\n",
    "\treturn train_norm, test_norm"
   ]
  },
  {
   "cell_type": "code",
   "execution_count": 214,
   "metadata": {
    "id": "DJBEDMlR9F5a"
   },
   "outputs": [],
   "source": [
    "# define cnn model\n",
    "def define_model():\n",
    "\tmodel = Sequential()\n",
    "\tmodel.add(Conv2D(32, (3, 3), activation='relu', kernel_initializer='he_uniform', input_shape=(28, 28, 1)))\n",
    "\tmodel.add(MaxPooling2D((2, 2)))\n",
    "\tmodel.add(Flatten())\n",
    "\tmodel.add(Dense(100, activation='relu', kernel_initializer='he_uniform'))\n",
    "\tmodel.add(Dense(10, activation='softmax'))\n",
    "\t# compile model\n",
    "\topt = SGD(learning_rate=0.01, momentum=0.9)\n",
    "\tmodel.compile(optimizer=opt, loss='categorical_crossentropy', metrics=['accuracy'])\n",
    "\treturn model"
   ]
  },
  {
   "cell_type": "code",
   "execution_count": 215,
   "metadata": {
    "id": "lT8Veuz9N_Gl"
   },
   "outputs": [],
   "source": [
    "def get_weights_model(model):\n",
    "    all_weights = []\n",
    "    for layer in model.layers:\n",
    "        if layer.trainable:\n",
    "            for w in layer.get_weights():\n",
    "                all_weights.extend(w.flatten())\n",
    "    return np.array(all_weights)"
   ]
  },
  {
   "cell_type": "code",
   "execution_count": 216,
   "metadata": {
    "id": "geCYeiDrDrWz"
   },
   "outputs": [],
   "source": [
    "def count_weights(model):\n",
    "    total = 0\n",
    "    for layer in model.layers:\n",
    "        weights = layer.get_weights()  # Returns list of numpy arrays\n",
    "        for w in weights:\n",
    "            total += np.prod(w.shape)\n",
    "    return total"
   ]
  },
  {
   "cell_type": "code",
   "execution_count": 217,
   "metadata": {},
   "outputs": [],
   "source": [
    "def evaluate_model(model, X_test, y_test):\n",
    "    # evaluate the model\n",
    "    loss, accuracy = model.evaluate(X_test, y_test, verbose=0)\n",
    "    return loss, accuracy\n",
    "    "
   ]
  },
  {
   "cell_type": "code",
   "execution_count": 218,
   "metadata": {
    "id": "4FPd4R0IiY8I"
   },
   "outputs": [],
   "source": [
    "def update_weights(model, position):\n",
    "    idx = 0\n",
    "    for layer in model.layers:\n",
    "        if not layer.trainable:\n",
    "            continue\n",
    "\n",
    "        weights = layer.get_weights()\n",
    "        new_weights = []\n",
    "        for w in weights:\n",
    "            size = np.prod(w.shape)\n",
    "            new_w = position[idx:idx+size].reshape(w.shape)\n",
    "            new_weights.append(new_w)\n",
    "            idx += size\n",
    "\n",
    "        if new_weights:\n",
    "            layer.set_weights(new_weights)\n",
    "    return model"
   ]
  },
  {
   "cell_type": "code",
   "execution_count": 219,
   "metadata": {
    "id": "WWU5lM3piY8J"
   },
   "outputs": [],
   "source": [
    "class Particle:\n",
    "      def __init__(self, position, velocity):\n",
    "          self.position = position\n",
    "          self.velocity = velocity\n",
    "          self.fitness = float('inf') #loss\n",
    "          self.accuracy = float('inf') #accuracy\n",
    "          self.local_best_position = position\n",
    "\n",
    "      def set_local_best(self, local_best_position):\n",
    "          self.local_best_position = local_best_position\n",
    "\n",
    "      def update_velocity(self, inertia_weight, cognitive_weight, social_weight, global_best_position):\n",
    "          r1, r2 = np.random.rand(2)\n",
    "          congnitive_component = cognitive_weight * r1 * (self.local_best_position - self.position)\n",
    "          social_component = social_weight * r2 * (global_best_position - self.position)\n",
    "          self.velocity = (inertia_weight * self.velocity + congnitive_component + social_component)\n",
    "          #print(\"Velocity\", self.velocity)\n",
    "\n",
    "      def update_position(self):\n",
    "          #print(\"Position\", self.position)\n",
    "          self.position += self.velocity\n",
    "\n",
    "      def evaluate_fitness(self, model, X_test, y_test):\n",
    "           # update the weights & biases of the model given the particle\n",
    "           model = update_weights(model, self.position)\n",
    "           self.fitness , self.accuracy =  evaluate_model(model, X_test, y_test)"
   ]
  },
  {
   "cell_type": "code",
   "execution_count": 220,
   "metadata": {
    "id": "PjGOqG3PiY8J"
   },
   "outputs": [],
   "source": [
    "def pso(n, max_trials, model, X_train, y_train, X_test, y_test,\n",
    "        inertia_weight, cognitive_weight, social_weight):\n",
    "\n",
    "    log_file='pso_ga_log.txt'\n",
    "    # Open log file\n",
    "    with open(log_file, 'w') as f:\n",
    "        f.write(\"Starting PSO-GA Hybrid Optimization\\n\")\n",
    "        f.write(\"----------------------------------\\n\\n\")\n",
    "\n",
    "    #weights_size = 0\n",
    "    #weights_size = sum([np.prod(w.shape) for w in model.trainable_weights])\n",
    "    pretrained_weights_biases = get_weights_model(model)\n",
    "    weights_size = len(pretrained_weights_biases)\n",
    "\n",
    "    all_particles = []\n",
    "    global_best_position = np.zeros(weights_size) #combination of weights and biases\n",
    "    global_best_fitness = float('inf') #minimum loss\n",
    "    gloval_best_accuracy = float('inf') #accuracy corresponding to the best minimum loss\n",
    "\n",
    "    local_best_position = np.zeros(weights_size) #combination of weights and biases\n",
    "    local_best_fitness = float('inf') #minimum loss\n",
    "    local_best_accuracy = float('inf') #accuracy corresponding to the best minimum loss\n",
    "    noise_range = 0.01  # Initial noise range\n",
    "    min_val = -10.0\n",
    "    #max_val = 0.1\n",
    "    max_val = 10.0\n",
    "    tempLow = min_val * 0.01\n",
    "    tempHigh = max_val * 0.01\n",
    "\n",
    "    cxpb= 0.7\n",
    "    mutpb= 0.3\n",
    "    if \"FitnessMulti\" not in creator.__dict__:\n",
    "        creator.create(\"FitnessMulti\", base.Fitness, weights=(-1.0, 1.0))\n",
    "    if \"Individual\" not in creator.__dict__:\n",
    "        creator.create(\"Individual\", list, fitness=creator.FitnessMulti)\n",
    "\n",
    "    toolbox = base.Toolbox()\n",
    "    toolbox.register(\"attr_float\", np.random.uniform, -0.1, 0.1)\n",
    "    toolbox.register(\"individual\", tools.initRepeat, creator.Individual, toolbox.attr_float, n=weights_size)\n",
    "    toolbox.register(\"Population\", tools.initRepeat, list, toolbox.individual)\n",
    "    #toolbox.register(\"evaluate\", evaulate_model)\n",
    "    toolbox.register(\"mate\", tools.cxBlend, alpha=0.5)\n",
    "    toolbox.register(\"mutate\", tools.mutGaussian, mu=0, sigma=0.1, indpb=0.2)\n",
    "    toolbox.register(\"select\", tools.selTournament, toursize=3)\n",
    "    \n",
    "    for _ in range(n):\n",
    "        position = pretrained_weights_biases + np.random.uniform(tempLow, tempHigh, size=weights_size)\n",
    "        velocity = np.random.uniform(tempLow, tempHigh, size=weights_size)\n",
    "\n",
    "        particle = Particle(position, velocity)\n",
    "        particle.update_position()\n",
    "        particle.evaluate_fitness(model, X_test, y_test)\n",
    "\n",
    "        if particle.fitness < global_best_fitness:\n",
    "           local_best_fitness = particle.fitness\n",
    "           local_best_position = particle.position\n",
    "           local_best_accuracy = particle.accuracy\n",
    "\n",
    "           global_best_fitness = particle.fitness\n",
    "           global_best_position = particle.position\n",
    "           global_best_accuracy = particle.accuracy\n",
    "\n",
    "        all_particles.append(particle)\n",
    "\n",
    "    # Initialize min_loss and max_loss\n",
    "    min_loss = float('inf')  # Start with a very high value\n",
    "    max_loss = float('-inf')  # Start with a very low value\n",
    "    # Initialize min_ind and max_ind\n",
    "    min_ind = -1\n",
    "    max_ind = -1\n",
    "\n",
    "    # Iterate through all particles\n",
    "    for i in range(len(all_particles)):\n",
    "        current_fitness = all_particles[i].fitness\n",
    "\n",
    "        # Update min_loss and min_ind\n",
    "        if current_fitness < min_loss:\n",
    "            min_loss = current_fitness\n",
    "            min_ind = i\n",
    "        # Update max_loss and max_ind\n",
    "        if current_fitness > max_loss:\n",
    "            max_loss = current_fitness\n",
    "            max_ind = i\n",
    "\n",
    "    min_loss_data = []\n",
    "    min_acc_data = []\n",
    "    max_loss_data = []\n",
    "    max_acc_data= []\n",
    "\n",
    "    print(f\"Best Global Loss/Fitness = {global_best_fitness}, Best Accuracy = {global_best_accuracy}\")\n",
    "    print(f\"Best Local Loss/Fitness = {local_best_fitness}, Best Accuracy = {local_best_accuracy}\")\n",
    "    print(\"---------------------------------------------------------\")\n",
    "    tempLow = min_val * 0.0001\n",
    "    tempHigh = max_val * 0.0001\n",
    "    tol = 5\n",
    "    patience = 0\n",
    "    isEnd = False\n",
    "    best_fitness_history = [global_best_fitness]\n",
    "    for trial in range(max_trials):\n",
    "        inertia_weight = inertia_weight * 0.99\n",
    "        for i in range(n):\n",
    "            current_particle = all_particles[i]\n",
    "            current_particle.update_velocity(inertia_weight, cognitive_weight, social_weight, global_best_position)\n",
    "            current_particle.velocity = np.clip(current_particle.velocity, tempLow, tempHigh)\n",
    "\n",
    "            current_particle.update_position()\n",
    "            current_particle.evaluate_fitness(model, X_test, y_test)\n",
    "\n",
    "            if i == min_ind:\n",
    "               min_loss_data.append(current_particle.fitness)\n",
    "               min_acc_data.append(current_particle.accuracy)\n",
    "\n",
    "            if i == max_ind:\n",
    "               max_loss_data.append(current_particle.fitness)\n",
    "               max_acc_data.append(current_particle.accuracy)\n",
    "\n",
    "            if current_particle.fitness < local_best_fitness:\n",
    "               local_best_fitness = current_particle.fitness\n",
    "               local_best_position = current_particle.position\n",
    "               local_best_accuracy = current_particle.accuracy\n",
    "               current_particle.set_local_best(local_best_position)\n",
    "\n",
    "            if current_particle.fitness < global_best_fitness:\n",
    "                global_best_fitness = current_particle.fitness\n",
    "                global_best_position = current_particle.position\n",
    "                global_best_accuracy = current_particle.accuracy\n",
    "                patience = 0\n",
    "                best_fitness_history.append(global_best_fitness)\n",
    "\n",
    "        message = f\"Trial {trial+1}: Best Loss/Fitness PSO = {global_best_fitness}, Best Accuracy = {global_best_accuracy}\"\n",
    "        print(message)\n",
    "        with open(log_file, 'a') as f:\n",
    "            f.write(message + \"\\n\")\n",
    "        \n",
    "        #GA - generate population\n",
    "        population = [creator.Individual(p.position.tolist()) for p in all_particles]\n",
    "        #GA - apply operations\n",
    "        offspring = algorithms.varAnd(population, toolbox, cxpb=0.7, mutpb=0.3)\n",
    "\n",
    "        #Evaluate offspring\n",
    "        for child in offspring:\n",
    "            update_weights(model, np.array(child))\n",
    "            loss, accuracy = evaluate_model(model, X_test, y_test)\n",
    "            child.fitness.values = (loss, accuracy)\n",
    "        \n",
    "        #Replace worst particles in PSO\n",
    "        all_particles.sort(key=lambda x:x.fitness)\n",
    "        offspring.sort(key=lambda x:x.fitness.values)\n",
    "\n",
    "        for i in range(min(len(offspring), len(all_particles)//2)):\n",
    "            worst_idx = -(i+1)\n",
    "            all_particles[worst_idx].position = np.array(offspring[i])\n",
    "            update_weights(model, all_particles[worst_idx].position)\n",
    "            all_particles[worst_idx].evaluate_fitness(model, X_test, y_test)\n",
    "\n",
    "            if worst_idx == min_ind:\n",
    "               min_loss_data.pop()\n",
    "               min_acc_data.pop()\n",
    "               min_loss_data.append(all_particles[worst_idx].fitness)\n",
    "               min_acc_data.append(all_particles[worst_idx].accuracy)\n",
    "            if worst_idx == max_ind:\n",
    "               max_loss_data.pop()\n",
    "               max_acc_data.pop()\n",
    "               max_loss_data.append(all_particles[worst_idx].fitness)\n",
    "               max_acc_data.append(all_particles[worst_idx].accuracy)\n",
    "\n",
    "            if all_particles[worst_idx].fitness < global_best_fitness:\n",
    "                global_best_fitness = all_particles[worst_idx].fitness\n",
    "                global_best_position = all_particles[worst_idx].position\n",
    "                global_best_accuracy = all_particles[worst_idx].accuracy\n",
    "                patience = 0\n",
    "                best_fitness_history.append(global_best_fitness)\n",
    "\n",
    "        if global_best_fitness >= min(best_fitness_history):\n",
    "           patience += 1\n",
    "            \n",
    "        if patience >= tol:\n",
    "           message = f\"\\nEarly stopping at trial {trial+1} - No improvement for {patience} consecutive trials.\"\n",
    "           print(message)\n",
    "           with open(log_file, 'a') as f:\n",
    "                f.write(message + \"\\n\")\n",
    "           break\n",
    "        else:\n",
    "          message = f\"Trial {trial+1}: Best Loss/Fitness GA = {global_best_fitness}, Best Accuracy = {global_best_accuracy}\"\n",
    "          print(message)\n",
    "          with open(log_file, 'a') as f:\n",
    "              f.write(message + \"\\n\")\n",
    "              f.write(\"-----------------------------------------------------------------------------------------------\" + \"\\n\")\n",
    "        \n",
    "    path = 'plots/mnist_perform_best_100.png'\n",
    "    plot_data(min_loss_data, min_acc_data, path)\n",
    "    path = 'plots/mnist_perform_worst_100.png'\n",
    "    plot_data(max_loss_data, max_acc_data, path)\n",
    "    return global_best_position, global_best_fitness"
   ]
  },
  {
   "cell_type": "code",
   "execution_count": 221,
   "metadata": {
    "id": "xtTmg7QoiY8J"
   },
   "outputs": [],
   "source": [
    "# PSO parameters\n",
    "n_particles = 30\n",
    "max_trials = 100\n",
    "w = 0.7  # Inertia weight\n",
    "c1 = 1.5  # Cognitive parameter\n",
    "c2 = 1.5  # Social parameter"
   ]
  },
  {
   "cell_type": "code",
   "execution_count": 222,
   "metadata": {
    "id": "cJEnxGCB_Bt8"
   },
   "outputs": [],
   "source": [
    "# evaluate a model using k-fold cross-validation\n",
    "def evaluate_model_initial(dataX, dataY, n_folds=5):\n",
    "    scores, histories = list(), list()\n",
    "    # prepare cross validation\n",
    "    kfold = KFold(n_folds, shuffle=True, random_state=1)\n",
    "    # enumerate splits\n",
    "    for train_ix, test_ix in kfold.split(dataX):\n",
    "        # define model\n",
    "        model = define_model()\n",
    "        # select rows for train and test\n",
    "        trainX, trainY, testX, testY = dataX[train_ix], dataY[train_ix], dataX[test_ix], dataY[test_ix]\n",
    "        # fit model\n",
    "        history = model.fit(trainX, trainY, epochs=10, batch_size=32, validation_data=(testX, testY), verbose=0)\n",
    "        # evaluate model\n",
    "        loss, acc = model.evaluate(testX, testY, verbose=0)\n",
    "        print('> %.3f' % (acc * 100.0))\n",
    "        print(f\"Loss/Fitness = {loss}, Accuracy = {acc}\")  # Fixed: Consistent indentation (spaces)\n",
    "        # stores scores\n",
    "        scores.append(acc)\n",
    "        histories.append(history)\n",
    "    return scores, histories, model"
   ]
  },
  {
   "cell_type": "code",
   "execution_count": 223,
   "metadata": {
    "id": "oePEp1oT_jBe"
   },
   "outputs": [],
   "source": [
    "# plot diagnostic learning curves\n",
    "def summarize_diagnostics(histories):\n",
    "\tfor i in range(len(histories)):\n",
    "\t\t# plot loss\n",
    "\t\tplt.subplot(2, 1, 1)\n",
    "\t\tplt.title('Cross Entropy Loss')\n",
    "\t\tplt.plot(histories[i].history['loss'], color='blue', label='train')\n",
    "\t\tplt.plot(histories[i].history['val_loss'], color='orange', label='test')\n",
    "\t\t# plot accuracy\n",
    "\t\tplt.subplot(2, 1, 2)\n",
    "\t\tplt.title('Classification Accuracy')\n",
    "\t\tplt.plot(histories[i].history['accuracy'], color='blue', label='train')\n",
    "\t\tplt.plot(histories[i].history['val_accuracy'], color='orange', label='test')\n",
    "\tplt.show()"
   ]
  },
  {
   "cell_type": "code",
   "execution_count": 224,
   "metadata": {
    "id": "Ovad15-2_xs0"
   },
   "outputs": [],
   "source": [
    "# run the test harness for evaluating a model\n",
    "def run_test_harness():\n",
    "    # load dataset\n",
    "    trainX, trainY, testX, testY, valX, valY = load_dataset()\n",
    "    # prepare pixel data\n",
    "    trainX, testX = prep_pixels(trainX, testX)\n",
    "    # evaluate model\n",
    "    scores, histories, model = evaluate_model_initial(trainX, trainY)\n",
    "    # print the weights\n",
    "    get_weights_model(model)\n",
    "    # learning curves\n",
    "    summarize_diagnostics(histories)\n",
    "    return model, trainX, trainY, testX, testY, valX, valY"
   ]
  },
  {
   "cell_type": "code",
   "execution_count": 225,
   "metadata": {
    "id": "vrrKitJyiY8K"
   },
   "outputs": [],
   "source": [
    "def setup_run():\n",
    "    # Create a base model\n",
    "    print(\"Before PSO\")\n",
    "    model, trainX, trainY, testX, testY, valX, valY = run_test_harness()\n",
    "    print(\"Now PSO estimations\")\n",
    "    inertia_weight = w\n",
    "    cognitive_weight = c1\n",
    "    social_weight = c2\n",
    "    pso(n_particles, max_trials, model, trainX, trainY, testX, testY, inertia_weight, cognitive_weight, social_weight)"
   ]
  },
  {
   "cell_type": "code",
   "execution_count": 226,
   "metadata": {
    "colab": {
     "base_uri": "https://localhost:8080/",
     "height": 880
    },
    "id": "njkBOgQS_-vL",
    "outputId": "8ff3ca5d-a4a5-4cd4-d668-9420c6ba8311"
   },
   "outputs": [
    {
     "name": "stdout",
     "output_type": "stream",
     "text": [
      "Before PSO\n",
      "> 89.278\n",
      "Loss/Fitness = 0.36823731660842896, Accuracy = 0.8927778005599976\n",
      "> 90.600\n",
      "Loss/Fitness = 0.328731894493103, Accuracy = 0.906000018119812\n",
      "> 91.111\n",
      "Loss/Fitness = 0.30860432982444763, Accuracy = 0.9111111164093018\n",
      "> 90.233\n",
      "Loss/Fitness = 0.3174537122249603, Accuracy = 0.9023333191871643\n",
      "> 89.900\n",
      "Loss/Fitness = 0.3637978136539459, Accuracy = 0.8989999890327454\n"
     ]
    },
    {
     "data": {
      "image/png": "[encoded data removed]",
      "text/plain": [
       "<Figure size 640x480 with 2 Axes>"
      ]
     },
     "metadata": {},
     "output_type": "display_data"
    },
    {
     "name": "stdout",
     "output_type": "stream",
     "text": [
      "Now PSO estimations\n",
      "Best Global Loss/Fitness = 0.44980672001838684, Best Accuracy = 0.8536666631698608\n",
      "Best Local Loss/Fitness = 0.44980672001838684, Best Accuracy = 0.8536666631698608\n",
      "---------------------------------------------------------\n",
      "Trial 1: Best Loss/Fitness PSO = 0.44980672001838684, Best Accuracy = 0.8536666631698608\n",
      "Trial 1: Best Loss/Fitness GA = 0.4179214537143707, Best Accuracy = 0.8694000244140625\n",
      "Trial 2: Best Loss/Fitness PSO = 0.41545355319976807, Best Accuracy = 0.870199978351593\n",
      "Trial 2: Best Loss/Fitness GA = 0.41545355319976807, Best Accuracy = 0.870199978351593\n",
      "Trial 3: Best Loss/Fitness PSO = 0.41382962465286255, Best Accuracy = 0.8703333139419556\n",
      "Trial 3: Best Loss/Fitness GA = 0.41382962465286255, Best Accuracy = 0.8703333139419556\n",
      "Trial 4: Best Loss/Fitness PSO = 0.4105581045150757, Best Accuracy = 0.8715333342552185\n",
      "Trial 4: Best Loss/Fitness GA = 0.38212063908576965, Best Accuracy = 0.887066662311554\n",
      "Trial 5: Best Loss/Fitness PSO = 0.38125312328338623, Best Accuracy = 0.8877333402633667\n",
      "Trial 5: Best Loss/Fitness GA = 0.38125312328338623, Best Accuracy = 0.8877333402633667\n",
      "Trial 6: Best Loss/Fitness PSO = 0.3808266520500183, Best Accuracy = 0.8880666494369507\n",
      "Trial 6: Best Loss/Fitness GA = 0.3808266520500183, Best Accuracy = 0.8880666494369507\n",
      "Trial 7: Best Loss/Fitness PSO = 0.38061070442199707, Best Accuracy = 0.8882666826248169\n",
      "Trial 7: Best Loss/Fitness GA = 0.38061070442199707, Best Accuracy = 0.8882666826248169\n",
      "Trial 8: Best Loss/Fitness PSO = 0.38049671053886414, Best Accuracy = 0.8883333206176758\n",
      "Trial 8: Best Loss/Fitness GA = 0.38049671053886414, Best Accuracy = 0.8883333206176758\n",
      "Trial 9: Best Loss/Fitness PSO = 0.38034749031066895, Best Accuracy = 0.890999972820282\n",
      "Trial 9: Best Loss/Fitness GA = 0.3711836636066437, Best Accuracy = 0.8835333585739136\n",
      "Trial 10: Best Loss/Fitness PSO = 0.3709627389907837, Best Accuracy = 0.883400022983551\n",
      "Trial 10: Best Loss/Fitness GA = 0.3709627389907837, Best Accuracy = 0.883400022983551\n",
      "Trial 11: Best Loss/Fitness PSO = 0.3699062466621399, Best Accuracy = 0.8832666873931885\n",
      "Trial 11: Best Loss/Fitness GA = 0.36158958077430725, Best Accuracy = 0.888866662979126\n",
      "Trial 12: Best Loss/Fitness PSO = 0.3614293932914734, Best Accuracy = 0.8887333273887634\n",
      "Trial 12: Best Loss/Fitness GA = 0.3614293932914734, Best Accuracy = 0.8887333273887634\n",
      "Trial 13: Best Loss/Fitness PSO = 0.36136379837989807, Best Accuracy = 0.8888000249862671\n",
      "Trial 13: Best Loss/Fitness GA = 0.36136379837989807, Best Accuracy = 0.8888000249862671\n",
      "Trial 14: Best Loss/Fitness PSO = 0.36133474111557007, Best Accuracy = 0.8889999985694885\n",
      "Trial 14: Best Loss/Fitness GA = 0.3569607734680176, Best Accuracy = 0.8940666913986206\n",
      "Trial 15: Best Loss/Fitness PSO = 0.3569607734680176, Best Accuracy = 0.8940666913986206\n",
      "Trial 15: Best Loss/Fitness GA = 0.3569607734680176, Best Accuracy = 0.8940666913986206\n",
      "Trial 16: Best Loss/Fitness PSO = 0.3569607734680176, Best Accuracy = 0.8940666913986206\n",
      "Trial 16: Best Loss/Fitness GA = 0.3569607734680176, Best Accuracy = 0.8940666913986206\n",
      "Trial 17: Best Loss/Fitness PSO = 0.3569607734680176, Best Accuracy = 0.8940666913986206\n",
      "Trial 17: Best Loss/Fitness GA = 0.3569607734680176, Best Accuracy = 0.8940666913986206\n",
      "Trial 18: Best Loss/Fitness PSO = 0.3569607734680176, Best Accuracy = 0.8940666913986206\n",
      "Trial 18: Best Loss/Fitness GA = 0.35634395480155945, Best Accuracy = 0.8929333090782166\n",
      "Trial 19: Best Loss/Fitness PSO = 0.3561135232448578, Best Accuracy = 0.8930000066757202\n",
      "Trial 19: Best Loss/Fitness GA = 0.3561135232448578, Best Accuracy = 0.8930000066757202\n",
      "Trial 20: Best Loss/Fitness PSO = 0.3560238480567932, Best Accuracy = 0.8935333490371704\n",
      "Trial 20: Best Loss/Fitness GA = 0.34939074516296387, Best Accuracy = 0.8952000141143799\n",
      "Trial 21: Best Loss/Fitness PSO = 0.34939074516296387, Best Accuracy = 0.8952000141143799\n",
      "Trial 21: Best Loss/Fitness GA = 0.34939074516296387, Best Accuracy = 0.8952000141143799\n",
      "Trial 22: Best Loss/Fitness PSO = 0.34939074516296387, Best Accuracy = 0.8952000141143799\n",
      "Trial 22: Best Loss/Fitness GA = 0.34762516617774963, Best Accuracy = 0.8975333571434021\n",
      "Trial 23: Best Loss/Fitness PSO = 0.34653955698013306, Best Accuracy = 0.8980000019073486\n",
      "Trial 23: Best Loss/Fitness GA = 0.34653955698013306, Best Accuracy = 0.8980000019073486\n",
      "Trial 24: Best Loss/Fitness PSO = 0.34601494669914246, Best Accuracy = 0.8987333178520203\n",
      "Trial 24: Best Loss/Fitness GA = 0.34601494669914246, Best Accuracy = 0.8987333178520203\n",
      "Trial 25: Best Loss/Fitness PSO = 0.34578344225883484, Best Accuracy = 0.8987333178520203\n",
      "Trial 25: Best Loss/Fitness GA = 0.34248086810112, Best Accuracy = 0.8969333171844482\n",
      "Trial 26: Best Loss/Fitness PSO = 0.34248086810112, Best Accuracy = 0.8969333171844482\n",
      "Trial 26: Best Loss/Fitness GA = 0.34248086810112, Best Accuracy = 0.8969333171844482\n",
      "Trial 27: Best Loss/Fitness PSO = 0.34248086810112, Best Accuracy = 0.8969333171844482\n",
      "Trial 27: Best Loss/Fitness GA = 0.34248086810112, Best Accuracy = 0.8969333171844482\n",
      "Trial 28: Best Loss/Fitness PSO = 0.34248086810112, Best Accuracy = 0.8969333171844482\n",
      "Trial 28: Best Loss/Fitness GA = 0.34248086810112, Best Accuracy = 0.8969333171844482\n",
      "Trial 29: Best Loss/Fitness PSO = 0.34248086810112, Best Accuracy = 0.8969333171844482\n",
      "Trial 29: Best Loss/Fitness GA = 0.3418372869491577, Best Accuracy = 0.8971999883651733\n",
      "Trial 30: Best Loss/Fitness PSO = 0.3418372869491577, Best Accuracy = 0.8971999883651733\n",
      "Trial 30: Best Loss/Fitness GA = 0.3416077792644501, Best Accuracy = 0.8970000147819519\n",
      "Trial 31: Best Loss/Fitness PSO = 0.3416077792644501, Best Accuracy = 0.8970000147819519\n",
      "Trial 31: Best Loss/Fitness GA = 0.34149253368377686, Best Accuracy = 0.8970666527748108\n",
      "Trial 32: Best Loss/Fitness PSO = 0.34149253368377686, Best Accuracy = 0.8970666527748108\n",
      "Trial 32: Best Loss/Fitness GA = 0.3408012390136719, Best Accuracy = 0.8975333571434021\n",
      "Trial 33: Best Loss/Fitness PSO = 0.3405247628688812, Best Accuracy = 0.897599995136261\n",
      "Trial 33: Best Loss/Fitness GA = 0.33925166726112366, Best Accuracy = 0.899399995803833\n",
      "Trial 34: Best Loss/Fitness PSO = 0.338886559009552, Best Accuracy = 0.899399995803833\n",
      "Trial 34: Best Loss/Fitness GA = 0.338268905878067, Best Accuracy = 0.897599995136261\n",
      "Trial 35: Best Loss/Fitness PSO = 0.338268905878067, Best Accuracy = 0.897599995136261\n",
      "Trial 35: Best Loss/Fitness GA = 0.338268905878067, Best Accuracy = 0.897599995136261\n",
      "Trial 36: Best Loss/Fitness PSO = 0.338268905878067, Best Accuracy = 0.897599995136261\n",
      "Trial 36: Best Loss/Fitness GA = 0.338268905878067, Best Accuracy = 0.897599995136261\n",
      "Trial 37: Best Loss/Fitness PSO = 0.338268905878067, Best Accuracy = 0.897599995136261\n",
      "Trial 37: Best Loss/Fitness GA = 0.338268905878067, Best Accuracy = 0.897599995136261\n",
      "Trial 38: Best Loss/Fitness PSO = 0.338268905878067, Best Accuracy = 0.897599995136261\n",
      "\n",
      "Early stopping at trial 38 - No improvement for 5 consecutive trials.\n"
     ]
    },
    {
     "ename": "NameError",
     "evalue": "name 'plot_data' is not defined",
     "output_type": "error",
     "traceback": [
      "\u001b[1;31m---------------------------------------------------------------------------\u001b[0m",
      "\u001b[1;31mNameError\u001b[0m                                 Traceback (most recent call last)",
      "Cell \u001b[1;32mIn[226], line 2\u001b[0m\n\u001b[0;32m      1\u001b[0m \u001b[38;5;66;03m# entry point, run the test harness\u001b[39;00m\n\u001b[1;32m----> 2\u001b[0m setup_run()\n",
      "Cell \u001b[1;32mIn[225], line 9\u001b[0m, in \u001b[0;36msetup_run\u001b[1;34m()\u001b[0m\n\u001b[0;32m      7\u001b[0m cognitive_weight \u001b[38;5;241m=\u001b[39m c1\n\u001b[0;32m      8\u001b[0m social_weight \u001b[38;5;241m=\u001b[39m c2\n\u001b[1;32m----> 9\u001b[0m pso(n_particles, max_trials, model, trainX, trainY, testX, testY, inertia_weight, cognitive_weight, social_weight)\n",
      "Cell \u001b[1;32mIn[220], line 191\u001b[0m, in \u001b[0;36mpso\u001b[1;34m(n, max_trials, model, X_train, y_train, X_test, y_test, inertia_weight, cognitive_weight, social_weight)\u001b[0m\n\u001b[0;32m    188\u001b[0m           f\u001b[38;5;241m.\u001b[39mwrite(\u001b[38;5;124m\"\u001b[39m\u001b[38;5;124m-----------------------------------------------------------------------------------------------\u001b[39m\u001b[38;5;124m\"\u001b[39m \u001b[38;5;241m+\u001b[39m \u001b[38;5;124m\"\u001b[39m\u001b[38;5;130;01m\\n\u001b[39;00m\u001b[38;5;124m\"\u001b[39m)\n\u001b[0;32m    190\u001b[0m path \u001b[38;5;241m=\u001b[39m \u001b[38;5;124m'\u001b[39m\u001b[38;5;124mplots/mnist_perform_best_100.png\u001b[39m\u001b[38;5;124m'\u001b[39m\n\u001b[1;32m--> 191\u001b[0m plot_data(min_loss_data, min_acc_data, path)\n\u001b[0;32m    192\u001b[0m path \u001b[38;5;241m=\u001b[39m \u001b[38;5;124m'\u001b[39m\u001b[38;5;124mplots/mnist_perform_worst_100.png\u001b[39m\u001b[38;5;124m'\u001b[39m\n\u001b[0;32m    193\u001b[0m plot_data(max_loss_data, max_acc_data, path)\n",
      "\u001b[1;31mNameError\u001b[0m: name 'plot_data' is not defined"
     ]
    }
   ],
   "source": [
    "# entry point, run the test harness\n",
    "setup_run()"
   ]
  }
 ],
 "metadata": {
  "accelerator": "GPU",
  "colab": {
   "gpuType": "A100",
   "machine_shape": "hm",
   "provenance": []
  },
  "kernelspec": {
   "display_name": "project1",
   "language": "python",
   "name": "python3"
  },
  "language_info": {
   "codemirror_mode": {
    "name": "ipython",
    "version": 3
   },
   "file_extension": ".py",
   "mimetype": "text/x-python",
   "name": "python",
   "nbconvert_exporter": "python",
   "pygments_lexer": "ipython3",
   "version": "3.12.6 | packaged by conda-forge | (main, Sep 30 2024, 17:55:16) [Clang 17.0.6 ]"
  },
  "vscode": {
   "interpreter": {
    "hash": "d600cba5b7a57144b2e6c85d1597c402a4d1cb80a5c2a7b4c8c535290d8e4377"
   }
  }
 },
 "nbformat": 4,
 "nbformat_minor": 4
}
